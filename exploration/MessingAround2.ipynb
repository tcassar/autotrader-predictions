{
 "cells": [
  {
   "cell_type": "code",
   "outputs": [],
   "source": [
    "import pandas as pd\n",
    "\n",
    "data_path = f\"data/rate_of_sale_may_2023.snappy.parquet\"\n",
    "\n",
    "data_dict_path = f\"data/rate_of_sale_data_dict.csv\"\n",
    "\n",
    "data = pd.read_parquet(data_path)\n",
    "\n",
    "data_dict_df = pd.read_csv(data_dict_path)"
   ],
   "metadata": {
    "collapsed": false,
    "ExecuteTime": {
     "end_time": "2024-03-01T23:17:12.514499Z",
     "start_time": "2024-03-01T23:17:12.235110Z"
    }
   },
   "id": "82cd710f0f59508e",
   "execution_count": 7
  },
  {
   "cell_type": "code",
   "outputs": [
    {
     "data": {
      "text/plain": "                                        stock_item_id last_date_seen  \\\n0   52ae009b671ab58b3d4ff109a9fbdcf8d847de0fa190e1...     2023-05-05   \n1   32b1bac6934b1f64ff43cffa9df5aa296ead8143c36f9f...     2023-05-09   \n2   21703d22d87eaa95c4dc81a60ba2c8cbe3b90ab659292c...     2023-05-12   \n3   661acafc271373946cea7d30ac7f34257404ab89a1ad33...     2023-05-16   \n4   638216dc92410d965b416fea5b3cec9ca903368795fdde...     2023-05-04   \n..                                                ...            ...   \n95  2f8d08de1a927b1e41e480971f757ba11070f8e68b2fd7...     2023-05-09   \n96  1bf6b523def182e9479b20394a2e7b73fc289c4c634263...     2023-05-02   \n97  5590368a6797d2d873992f387c95196426f20dccc3f878...     2023-05-13   \n98  f44869e0c1fec38fcde2d463fb4272591ce59604f1de9e...     2023-05-02   \n99  09da3165bfea460f1b453df67d9cb1cbb48acd418e3f7a...     2023-05-06   \n\n   first_date_seen  days_to_sell  first_retailer_asking_price  \\\n0       2021-03-25           771                         6995   \n1       2021-05-25           714                        13725   \n2       2021-11-26           532                        15499   \n3       2022-02-17           453                        10995   \n4       2022-03-21           409                        46000   \n..             ...           ...                          ...   \n95      2023-02-01            97                        13169   \n96      2023-02-02            89                        24238   \n97      2023-02-02           100                        10240   \n98      2023-02-02            89                         6995   \n99      2023-02-03            92                       155000   \n\n    last_retailer_asking_price  can_home_deliver  \\\n0                       6495.0             False   \n1                      14995.0             False   \n2                      13999.0             False   \n3                       9995.0             False   \n4                      37500.0             False   \n..                         ...               ...   \n95                     12475.0             False   \n96                     25349.0              True   \n97                      9921.0             False   \n98                      5995.0             False   \n99                    153000.0             False   \n\n    reviews_per_100_advertised_stock_last_12_months      segment  seats  ...  \\\n0                                               3.9  Independent    5.0  ...   \n1                                               NaN    Franchise    5.0  ...   \n2                                               0.2  Independent    5.0  ...   \n3                                               7.9    Franchise    5.0  ...   \n4                                               6.8    Franchise    5.0  ...   \n..                                              ...          ...    ...  ...   \n95                                              6.2    Franchise    5.0  ...   \n96                                             17.5  Independent    5.0  ...   \n97                                              0.1    Franchise    4.0  ...   \n98                                              1.3  Independent    5.0  ...   \n99                                             17.1    Franchise    4.0  ...   \n\n    odometer_reading_miles  first_registration_date  \\\n0                    65000               2004-05-07   \n1                    16018               2019-11-30   \n2                    31093               2018-03-08   \n3                    79000               2015-07-02   \n4                    10214               2022-03-03   \n..                     ...                      ...   \n95                   16745               2019-12-19   \n96                   15397               2020-01-04   \n97                   82731               2014-10-22   \n98                   50423               2014-03-12   \n99                   11350               2019-07-12   \n\n                 attention_grabber manufacturer_approved  \\\n0       *IMMACULATE**FULL HISTORY*                 False   \n1   Sports Styling | Great Economy                  True   \n2      Sat Nav,Leather,Auto,Euro 6                 False   \n3      Viewing by APPOINTMENT ONLY                 False   \n4                   Reserve Online                  True   \n..                             ...                   ...   \n95  NAV/F&R SENSORS/12M WARRANTY!!                 False   \n96    APPLE CAR PLAY BLUETOOTH DAB                 False   \n97               PAN-ROOF I AUTO I                 False   \n98       Cruise- Black Leather-FSH                 False   \n99                            None                  True   \n\n   price_indicator_rating adjusted_retail_amount_gbp  predicted_mileage  \\\n0              NOANALYSIS                        NaN                NaN   \n1                    GOOD                    14848.0            26078.0   \n2                   GREAT                    14571.0            34732.0   \n3                    FAIR                     9349.0            65684.0   \n4                    GOOD                    37055.0            11765.0   \n..                    ...                        ...                ...   \n95                    LOW                    13551.0            23846.0   \n96                   GOOD                    24872.0            28230.0   \n97                  GREAT                    10270.0            72691.0   \n98                    LOW                     6589.0            59916.0   \n99             NOANALYSIS                        NaN            13460.0   \n\n   number_of_images advert_quality  postcode_area  \n0                50            NaN             AL  \n1                15           57.0             HP  \n2                22           61.0             SR  \n3                30           61.0             FY  \n4                22           48.0             LE  \n..              ...            ...            ...  \n95               57           59.0             KT  \n96               25           44.0             DE  \n97               98           41.0             WS  \n98               22           62.0             CF  \n99               32           74.0             WA  \n\n[100 rows x 42 columns]",
      "text/html": "<div>\n<style scoped>\n    .dataframe tbody tr th:only-of-type {\n        vertical-align: middle;\n    }\n\n    .dataframe tbody tr th {\n        vertical-align: top;\n    }\n\n    .dataframe thead th {\n        text-align: right;\n    }\n</style>\n<table border=\"1\" class=\"dataframe\">\n  <thead>\n    <tr style=\"text-align: right;\">\n      <th></th>\n      <th>stock_item_id</th>\n      <th>last_date_seen</th>\n      <th>first_date_seen</th>\n      <th>days_to_sell</th>\n      <th>first_retailer_asking_price</th>\n      <th>last_retailer_asking_price</th>\n      <th>can_home_deliver</th>\n      <th>reviews_per_100_advertised_stock_last_12_months</th>\n      <th>segment</th>\n      <th>seats</th>\n      <th>...</th>\n      <th>odometer_reading_miles</th>\n      <th>first_registration_date</th>\n      <th>attention_grabber</th>\n      <th>manufacturer_approved</th>\n      <th>price_indicator_rating</th>\n      <th>adjusted_retail_amount_gbp</th>\n      <th>predicted_mileage</th>\n      <th>number_of_images</th>\n      <th>advert_quality</th>\n      <th>postcode_area</th>\n    </tr>\n  </thead>\n  <tbody>\n    <tr>\n      <th>0</th>\n      <td>52ae009b671ab58b3d4ff109a9fbdcf8d847de0fa190e1...</td>\n      <td>2023-05-05</td>\n      <td>2021-03-25</td>\n      <td>771</td>\n      <td>6995</td>\n      <td>6495.0</td>\n      <td>False</td>\n      <td>3.9</td>\n      <td>Independent</td>\n      <td>5.0</td>\n      <td>...</td>\n      <td>65000</td>\n      <td>2004-05-07</td>\n      <td>*IMMACULATE**FULL HISTORY*</td>\n      <td>False</td>\n      <td>NOANALYSIS</td>\n      <td>NaN</td>\n      <td>NaN</td>\n      <td>50</td>\n      <td>NaN</td>\n      <td>AL</td>\n    </tr>\n    <tr>\n      <th>1</th>\n      <td>32b1bac6934b1f64ff43cffa9df5aa296ead8143c36f9f...</td>\n      <td>2023-05-09</td>\n      <td>2021-05-25</td>\n      <td>714</td>\n      <td>13725</td>\n      <td>14995.0</td>\n      <td>False</td>\n      <td>NaN</td>\n      <td>Franchise</td>\n      <td>5.0</td>\n      <td>...</td>\n      <td>16018</td>\n      <td>2019-11-30</td>\n      <td>Sports Styling | Great Economy</td>\n      <td>True</td>\n      <td>GOOD</td>\n      <td>14848.0</td>\n      <td>26078.0</td>\n      <td>15</td>\n      <td>57.0</td>\n      <td>HP</td>\n    </tr>\n    <tr>\n      <th>2</th>\n      <td>21703d22d87eaa95c4dc81a60ba2c8cbe3b90ab659292c...</td>\n      <td>2023-05-12</td>\n      <td>2021-11-26</td>\n      <td>532</td>\n      <td>15499</td>\n      <td>13999.0</td>\n      <td>False</td>\n      <td>0.2</td>\n      <td>Independent</td>\n      <td>5.0</td>\n      <td>...</td>\n      <td>31093</td>\n      <td>2018-03-08</td>\n      <td>Sat Nav,Leather,Auto,Euro 6</td>\n      <td>False</td>\n      <td>GREAT</td>\n      <td>14571.0</td>\n      <td>34732.0</td>\n      <td>22</td>\n      <td>61.0</td>\n      <td>SR</td>\n    </tr>\n    <tr>\n      <th>3</th>\n      <td>661acafc271373946cea7d30ac7f34257404ab89a1ad33...</td>\n      <td>2023-05-16</td>\n      <td>2022-02-17</td>\n      <td>453</td>\n      <td>10995</td>\n      <td>9995.0</td>\n      <td>False</td>\n      <td>7.9</td>\n      <td>Franchise</td>\n      <td>5.0</td>\n      <td>...</td>\n      <td>79000</td>\n      <td>2015-07-02</td>\n      <td>Viewing by APPOINTMENT ONLY</td>\n      <td>False</td>\n      <td>FAIR</td>\n      <td>9349.0</td>\n      <td>65684.0</td>\n      <td>30</td>\n      <td>61.0</td>\n      <td>FY</td>\n    </tr>\n    <tr>\n      <th>4</th>\n      <td>638216dc92410d965b416fea5b3cec9ca903368795fdde...</td>\n      <td>2023-05-04</td>\n      <td>2022-03-21</td>\n      <td>409</td>\n      <td>46000</td>\n      <td>37500.0</td>\n      <td>False</td>\n      <td>6.8</td>\n      <td>Franchise</td>\n      <td>5.0</td>\n      <td>...</td>\n      <td>10214</td>\n      <td>2022-03-03</td>\n      <td>Reserve Online</td>\n      <td>True</td>\n      <td>GOOD</td>\n      <td>37055.0</td>\n      <td>11765.0</td>\n      <td>22</td>\n      <td>48.0</td>\n      <td>LE</td>\n    </tr>\n    <tr>\n      <th>...</th>\n      <td>...</td>\n      <td>...</td>\n      <td>...</td>\n      <td>...</td>\n      <td>...</td>\n      <td>...</td>\n      <td>...</td>\n      <td>...</td>\n      <td>...</td>\n      <td>...</td>\n      <td>...</td>\n      <td>...</td>\n      <td>...</td>\n      <td>...</td>\n      <td>...</td>\n      <td>...</td>\n      <td>...</td>\n      <td>...</td>\n      <td>...</td>\n      <td>...</td>\n      <td>...</td>\n    </tr>\n    <tr>\n      <th>95</th>\n      <td>2f8d08de1a927b1e41e480971f757ba11070f8e68b2fd7...</td>\n      <td>2023-05-09</td>\n      <td>2023-02-01</td>\n      <td>97</td>\n      <td>13169</td>\n      <td>12475.0</td>\n      <td>False</td>\n      <td>6.2</td>\n      <td>Franchise</td>\n      <td>5.0</td>\n      <td>...</td>\n      <td>16745</td>\n      <td>2019-12-19</td>\n      <td>NAV/F&amp;R SENSORS/12M WARRANTY!!</td>\n      <td>False</td>\n      <td>LOW</td>\n      <td>13551.0</td>\n      <td>23846.0</td>\n      <td>57</td>\n      <td>59.0</td>\n      <td>KT</td>\n    </tr>\n    <tr>\n      <th>96</th>\n      <td>1bf6b523def182e9479b20394a2e7b73fc289c4c634263...</td>\n      <td>2023-05-02</td>\n      <td>2023-02-02</td>\n      <td>89</td>\n      <td>24238</td>\n      <td>25349.0</td>\n      <td>True</td>\n      <td>17.5</td>\n      <td>Independent</td>\n      <td>5.0</td>\n      <td>...</td>\n      <td>15397</td>\n      <td>2020-01-04</td>\n      <td>APPLE CAR PLAY BLUETOOTH DAB</td>\n      <td>False</td>\n      <td>GOOD</td>\n      <td>24872.0</td>\n      <td>28230.0</td>\n      <td>25</td>\n      <td>44.0</td>\n      <td>DE</td>\n    </tr>\n    <tr>\n      <th>97</th>\n      <td>5590368a6797d2d873992f387c95196426f20dccc3f878...</td>\n      <td>2023-05-13</td>\n      <td>2023-02-02</td>\n      <td>100</td>\n      <td>10240</td>\n      <td>9921.0</td>\n      <td>False</td>\n      <td>0.1</td>\n      <td>Franchise</td>\n      <td>4.0</td>\n      <td>...</td>\n      <td>82731</td>\n      <td>2014-10-22</td>\n      <td>PAN-ROOF I AUTO I</td>\n      <td>False</td>\n      <td>GREAT</td>\n      <td>10270.0</td>\n      <td>72691.0</td>\n      <td>98</td>\n      <td>41.0</td>\n      <td>WS</td>\n    </tr>\n    <tr>\n      <th>98</th>\n      <td>f44869e0c1fec38fcde2d463fb4272591ce59604f1de9e...</td>\n      <td>2023-05-02</td>\n      <td>2023-02-02</td>\n      <td>89</td>\n      <td>6995</td>\n      <td>5995.0</td>\n      <td>False</td>\n      <td>1.3</td>\n      <td>Independent</td>\n      <td>5.0</td>\n      <td>...</td>\n      <td>50423</td>\n      <td>2014-03-12</td>\n      <td>Cruise- Black Leather-FSH</td>\n      <td>False</td>\n      <td>LOW</td>\n      <td>6589.0</td>\n      <td>59916.0</td>\n      <td>22</td>\n      <td>62.0</td>\n      <td>CF</td>\n    </tr>\n    <tr>\n      <th>99</th>\n      <td>09da3165bfea460f1b453df67d9cb1cbb48acd418e3f7a...</td>\n      <td>2023-05-06</td>\n      <td>2023-02-03</td>\n      <td>92</td>\n      <td>155000</td>\n      <td>153000.0</td>\n      <td>False</td>\n      <td>17.1</td>\n      <td>Franchise</td>\n      <td>4.0</td>\n      <td>...</td>\n      <td>11350</td>\n      <td>2019-07-12</td>\n      <td>None</td>\n      <td>True</td>\n      <td>NOANALYSIS</td>\n      <td>NaN</td>\n      <td>13460.0</td>\n      <td>32</td>\n      <td>74.0</td>\n      <td>WA</td>\n    </tr>\n  </tbody>\n</table>\n<p>100 rows × 42 columns</p>\n</div>"
     },
     "execution_count": 2,
     "metadata": {},
     "output_type": "execute_result"
    }
   ],
   "source": [
    "data.head(100)"
   ],
   "metadata": {
    "collapsed": false,
    "ExecuteTime": {
     "end_time": "2024-03-01T23:12:37.502383Z",
     "start_time": "2024-03-01T23:12:37.483932Z"
    }
   },
   "id": "e0476058e2531c09",
   "execution_count": 2
  },
  {
   "cell_type": "code",
   "outputs": [
    {
     "data": {
      "text/plain": "Pipeline(steps=[('preprocessor',\n                 ColumnTransformer(transformers=[('num',\n                                                  Pipeline(steps=[('imputer',\n                                                                   SimpleImputer()),\n                                                                  ('scaler',\n                                                                   StandardScaler())]),\n                                                  ['first_retailer_asking_price',\n                                                   'last_retailer_asking_price',\n                                                   'odometer_reading_miles',\n                                                   'reviews_per_100_advertised_stock_last_12_months',\n                                                   'seats',\n                                                   'adjusted_retail_amount_gbp',\n                                                   'predicted_mileage',\n                                                   'number_of_images',\n                                                   'advert_quality']),\n                                                 ('cat',\n                                                  Pipeline(steps=[('onehot',\n                                                                   OneHotEncoder(handle_unknown='ignore'))]),\n                                                  ['can_home_deliver',\n                                                   'manufacturer_approved',\n                                                   'segment',\n                                                   'price_indicator_rating'])])),\n                ('regressor', RandomForestRegressor(random_state=42))])",
      "text/html": "<style>#sk-container-id-1 {\n  /* Definition of color scheme common for light and dark mode */\n  --sklearn-color-text: black;\n  --sklearn-color-line: gray;\n  /* Definition of color scheme for unfitted estimators */\n  --sklearn-color-unfitted-level-0: #fff5e6;\n  --sklearn-color-unfitted-level-1: #f6e4d2;\n  --sklearn-color-unfitted-level-2: #ffe0b3;\n  --sklearn-color-unfitted-level-3: chocolate;\n  /* Definition of color scheme for fitted estimators */\n  --sklearn-color-fitted-level-0: #f0f8ff;\n  --sklearn-color-fitted-level-1: #d4ebff;\n  --sklearn-color-fitted-level-2: #b3dbfd;\n  --sklearn-color-fitted-level-3: cornflowerblue;\n\n  /* Specific color for light theme */\n  --sklearn-color-text-on-default-background: var(--sg-text-color, var(--theme-code-foreground, var(--jp-content-font-color1, black)));\n  --sklearn-color-background: var(--sg-background-color, var(--theme-background, var(--jp-layout-color0, white)));\n  --sklearn-color-border-box: var(--sg-text-color, var(--theme-code-foreground, var(--jp-content-font-color1, black)));\n  --sklearn-color-icon: #696969;\n\n  @media (prefers-color-scheme: dark) {\n    /* Redefinition of color scheme for dark theme */\n    --sklearn-color-text-on-default-background: var(--sg-text-color, var(--theme-code-foreground, var(--jp-content-font-color1, white)));\n    --sklearn-color-background: var(--sg-background-color, var(--theme-background, var(--jp-layout-color0, #111)));\n    --sklearn-color-border-box: var(--sg-text-color, var(--theme-code-foreground, var(--jp-content-font-color1, white)));\n    --sklearn-color-icon: #878787;\n  }\n}\n\n#sk-container-id-1 {\n  color: var(--sklearn-color-text);\n}\n\n#sk-container-id-1 pre {\n  padding: 0;\n}\n\n#sk-container-id-1 input.sk-hidden--visually {\n  border: 0;\n  clip: rect(1px 1px 1px 1px);\n  clip: rect(1px, 1px, 1px, 1px);\n  height: 1px;\n  margin: -1px;\n  overflow: hidden;\n  padding: 0;\n  position: absolute;\n  width: 1px;\n}\n\n#sk-container-id-1 div.sk-dashed-wrapped {\n  border: 1px dashed var(--sklearn-color-line);\n  margin: 0 0.4em 0.5em 0.4em;\n  box-sizing: border-box;\n  padding-bottom: 0.4em;\n  background-color: var(--sklearn-color-background);\n}\n\n#sk-container-id-1 div.sk-container {\n  /* jupyter's `normalize.less` sets `[hidden] { display: none; }`\n     but bootstrap.min.css set `[hidden] { display: none !important; }`\n     so we also need the `!important` here to be able to override the\n     default hidden behavior on the sphinx rendered scikit-learn.org.\n     See: https://github.com/scikit-learn/scikit-learn/issues/21755 */\n  display: inline-block !important;\n  position: relative;\n}\n\n#sk-container-id-1 div.sk-text-repr-fallback {\n  display: none;\n}\n\ndiv.sk-parallel-item,\ndiv.sk-serial,\ndiv.sk-item {\n  /* draw centered vertical line to link estimators */\n  background-image: linear-gradient(var(--sklearn-color-text-on-default-background), var(--sklearn-color-text-on-default-background));\n  background-size: 2px 100%;\n  background-repeat: no-repeat;\n  background-position: center center;\n}\n\n/* Parallel-specific style estimator block */\n\n#sk-container-id-1 div.sk-parallel-item::after {\n  content: \"\";\n  width: 100%;\n  border-bottom: 2px solid var(--sklearn-color-text-on-default-background);\n  flex-grow: 1;\n}\n\n#sk-container-id-1 div.sk-parallel {\n  display: flex;\n  align-items: stretch;\n  justify-content: center;\n  background-color: var(--sklearn-color-background);\n  position: relative;\n}\n\n#sk-container-id-1 div.sk-parallel-item {\n  display: flex;\n  flex-direction: column;\n}\n\n#sk-container-id-1 div.sk-parallel-item:first-child::after {\n  align-self: flex-end;\n  width: 50%;\n}\n\n#sk-container-id-1 div.sk-parallel-item:last-child::after {\n  align-self: flex-start;\n  width: 50%;\n}\n\n#sk-container-id-1 div.sk-parallel-item:only-child::after {\n  width: 0;\n}\n\n/* Serial-specific style estimator block */\n\n#sk-container-id-1 div.sk-serial {\n  display: flex;\n  flex-direction: column;\n  align-items: center;\n  background-color: var(--sklearn-color-background);\n  padding-right: 1em;\n  padding-left: 1em;\n}\n\n\n/* Toggleable style: style used for estimator/Pipeline/ColumnTransformer box that is\nclickable and can be expanded/collapsed.\n- Pipeline and ColumnTransformer use this feature and define the default style\n- Estimators will overwrite some part of the style using the `sk-estimator` class\n*/\n\n/* Pipeline and ColumnTransformer style (default) */\n\n#sk-container-id-1 div.sk-toggleable {\n  /* Default theme specific background. It is overwritten whether we have a\n  specific estimator or a Pipeline/ColumnTransformer */\n  background-color: var(--sklearn-color-background);\n}\n\n/* Toggleable label */\n#sk-container-id-1 label.sk-toggleable__label {\n  cursor: pointer;\n  display: block;\n  width: 100%;\n  margin-bottom: 0;\n  padding: 0.5em;\n  box-sizing: border-box;\n  text-align: center;\n}\n\n#sk-container-id-1 label.sk-toggleable__label-arrow:before {\n  /* Arrow on the left of the label */\n  content: \"▸\";\n  float: left;\n  margin-right: 0.25em;\n  color: var(--sklearn-color-icon);\n}\n\n#sk-container-id-1 label.sk-toggleable__label-arrow:hover:before {\n  color: var(--sklearn-color-text);\n}\n\n/* Toggleable content - dropdown */\n\n#sk-container-id-1 div.sk-toggleable__content {\n  max-height: 0;\n  max-width: 0;\n  overflow: hidden;\n  text-align: left;\n  /* unfitted */\n  background-color: var(--sklearn-color-unfitted-level-0);\n}\n\n#sk-container-id-1 div.sk-toggleable__content.fitted {\n  /* fitted */\n  background-color: var(--sklearn-color-fitted-level-0);\n}\n\n#sk-container-id-1 div.sk-toggleable__content pre {\n  margin: 0.2em;\n  border-radius: 0.25em;\n  color: var(--sklearn-color-text);\n  /* unfitted */\n  background-color: var(--sklearn-color-unfitted-level-0);\n}\n\n#sk-container-id-1 div.sk-toggleable__content.fitted pre {\n  /* unfitted */\n  background-color: var(--sklearn-color-fitted-level-0);\n}\n\n#sk-container-id-1 input.sk-toggleable__control:checked~div.sk-toggleable__content {\n  /* Expand drop-down */\n  max-height: 200px;\n  max-width: 100%;\n  overflow: auto;\n}\n\n#sk-container-id-1 input.sk-toggleable__control:checked~label.sk-toggleable__label-arrow:before {\n  content: \"▾\";\n}\n\n/* Pipeline/ColumnTransformer-specific style */\n\n#sk-container-id-1 div.sk-label input.sk-toggleable__control:checked~label.sk-toggleable__label {\n  color: var(--sklearn-color-text);\n  background-color: var(--sklearn-color-unfitted-level-2);\n}\n\n#sk-container-id-1 div.sk-label.fitted input.sk-toggleable__control:checked~label.sk-toggleable__label {\n  background-color: var(--sklearn-color-fitted-level-2);\n}\n\n/* Estimator-specific style */\n\n/* Colorize estimator box */\n#sk-container-id-1 div.sk-estimator input.sk-toggleable__control:checked~label.sk-toggleable__label {\n  /* unfitted */\n  background-color: var(--sklearn-color-unfitted-level-2);\n}\n\n#sk-container-id-1 div.sk-estimator.fitted input.sk-toggleable__control:checked~label.sk-toggleable__label {\n  /* fitted */\n  background-color: var(--sklearn-color-fitted-level-2);\n}\n\n#sk-container-id-1 div.sk-label label.sk-toggleable__label,\n#sk-container-id-1 div.sk-label label {\n  /* The background is the default theme color */\n  color: var(--sklearn-color-text-on-default-background);\n}\n\n/* On hover, darken the color of the background */\n#sk-container-id-1 div.sk-label:hover label.sk-toggleable__label {\n  color: var(--sklearn-color-text);\n  background-color: var(--sklearn-color-unfitted-level-2);\n}\n\n/* Label box, darken color on hover, fitted */\n#sk-container-id-1 div.sk-label.fitted:hover label.sk-toggleable__label.fitted {\n  color: var(--sklearn-color-text);\n  background-color: var(--sklearn-color-fitted-level-2);\n}\n\n/* Estimator label */\n\n#sk-container-id-1 div.sk-label label {\n  font-family: monospace;\n  font-weight: bold;\n  display: inline-block;\n  line-height: 1.2em;\n}\n\n#sk-container-id-1 div.sk-label-container {\n  text-align: center;\n}\n\n/* Estimator-specific */\n#sk-container-id-1 div.sk-estimator {\n  font-family: monospace;\n  border: 1px dotted var(--sklearn-color-border-box);\n  border-radius: 0.25em;\n  box-sizing: border-box;\n  margin-bottom: 0.5em;\n  /* unfitted */\n  background-color: var(--sklearn-color-unfitted-level-0);\n}\n\n#sk-container-id-1 div.sk-estimator.fitted {\n  /* fitted */\n  background-color: var(--sklearn-color-fitted-level-0);\n}\n\n/* on hover */\n#sk-container-id-1 div.sk-estimator:hover {\n  /* unfitted */\n  background-color: var(--sklearn-color-unfitted-level-2);\n}\n\n#sk-container-id-1 div.sk-estimator.fitted:hover {\n  /* fitted */\n  background-color: var(--sklearn-color-fitted-level-2);\n}\n\n/* Specification for estimator info (e.g. \"i\" and \"?\") */\n\n/* Common style for \"i\" and \"?\" */\n\n.sk-estimator-doc-link,\na:link.sk-estimator-doc-link,\na:visited.sk-estimator-doc-link {\n  float: right;\n  font-size: smaller;\n  line-height: 1em;\n  font-family: monospace;\n  background-color: var(--sklearn-color-background);\n  border-radius: 1em;\n  height: 1em;\n  width: 1em;\n  text-decoration: none !important;\n  margin-left: 1ex;\n  /* unfitted */\n  border: var(--sklearn-color-unfitted-level-1) 1pt solid;\n  color: var(--sklearn-color-unfitted-level-1);\n}\n\n.sk-estimator-doc-link.fitted,\na:link.sk-estimator-doc-link.fitted,\na:visited.sk-estimator-doc-link.fitted {\n  /* fitted */\n  border: var(--sklearn-color-fitted-level-1) 1pt solid;\n  color: var(--sklearn-color-fitted-level-1);\n}\n\n/* On hover */\ndiv.sk-estimator:hover .sk-estimator-doc-link:hover,\n.sk-estimator-doc-link:hover,\ndiv.sk-label-container:hover .sk-estimator-doc-link:hover,\n.sk-estimator-doc-link:hover {\n  /* unfitted */\n  background-color: var(--sklearn-color-unfitted-level-3);\n  color: var(--sklearn-color-background);\n  text-decoration: none;\n}\n\ndiv.sk-estimator.fitted:hover .sk-estimator-doc-link.fitted:hover,\n.sk-estimator-doc-link.fitted:hover,\ndiv.sk-label-container:hover .sk-estimator-doc-link.fitted:hover,\n.sk-estimator-doc-link.fitted:hover {\n  /* fitted */\n  background-color: var(--sklearn-color-fitted-level-3);\n  color: var(--sklearn-color-background);\n  text-decoration: none;\n}\n\n/* Span, style for the box shown on hovering the info icon */\n.sk-estimator-doc-link span {\n  display: none;\n  z-index: 9999;\n  position: relative;\n  font-weight: normal;\n  right: .2ex;\n  padding: .5ex;\n  margin: .5ex;\n  width: min-content;\n  min-width: 20ex;\n  max-width: 50ex;\n  color: var(--sklearn-color-text);\n  box-shadow: 2pt 2pt 4pt #999;\n  /* unfitted */\n  background: var(--sklearn-color-unfitted-level-0);\n  border: .5pt solid var(--sklearn-color-unfitted-level-3);\n}\n\n.sk-estimator-doc-link.fitted span {\n  /* fitted */\n  background: var(--sklearn-color-fitted-level-0);\n  border: var(--sklearn-color-fitted-level-3);\n}\n\n.sk-estimator-doc-link:hover span {\n  display: block;\n}\n\n/* \"?\"-specific style due to the `<a>` HTML tag */\n\n#sk-container-id-1 a.estimator_doc_link {\n  float: right;\n  font-size: 1rem;\n  line-height: 1em;\n  font-family: monospace;\n  background-color: var(--sklearn-color-background);\n  border-radius: 1rem;\n  height: 1rem;\n  width: 1rem;\n  text-decoration: none;\n  /* unfitted */\n  color: var(--sklearn-color-unfitted-level-1);\n  border: var(--sklearn-color-unfitted-level-1) 1pt solid;\n}\n\n#sk-container-id-1 a.estimator_doc_link.fitted {\n  /* fitted */\n  border: var(--sklearn-color-fitted-level-1) 1pt solid;\n  color: var(--sklearn-color-fitted-level-1);\n}\n\n/* On hover */\n#sk-container-id-1 a.estimator_doc_link:hover {\n  /* unfitted */\n  background-color: var(--sklearn-color-unfitted-level-3);\n  color: var(--sklearn-color-background);\n  text-decoration: none;\n}\n\n#sk-container-id-1 a.estimator_doc_link.fitted:hover {\n  /* fitted */\n  background-color: var(--sklearn-color-fitted-level-3);\n}\n</style><div id=\"sk-container-id-1\" class=\"sk-top-container\"><div class=\"sk-text-repr-fallback\"><pre>Pipeline(steps=[(&#x27;preprocessor&#x27;,\n                 ColumnTransformer(transformers=[(&#x27;num&#x27;,\n                                                  Pipeline(steps=[(&#x27;imputer&#x27;,\n                                                                   SimpleImputer()),\n                                                                  (&#x27;scaler&#x27;,\n                                                                   StandardScaler())]),\n                                                  [&#x27;first_retailer_asking_price&#x27;,\n                                                   &#x27;last_retailer_asking_price&#x27;,\n                                                   &#x27;odometer_reading_miles&#x27;,\n                                                   &#x27;reviews_per_100_advertised_stock_last_12_months&#x27;,\n                                                   &#x27;seats&#x27;,\n                                                   &#x27;adjusted_retail_amount_gbp&#x27;,\n                                                   &#x27;predicted_mileage&#x27;,\n                                                   &#x27;number_of_images&#x27;,\n                                                   &#x27;advert_quality&#x27;]),\n                                                 (&#x27;cat&#x27;,\n                                                  Pipeline(steps=[(&#x27;onehot&#x27;,\n                                                                   OneHotEncoder(handle_unknown=&#x27;ignore&#x27;))]),\n                                                  [&#x27;can_home_deliver&#x27;,\n                                                   &#x27;manufacturer_approved&#x27;,\n                                                   &#x27;segment&#x27;,\n                                                   &#x27;price_indicator_rating&#x27;])])),\n                (&#x27;regressor&#x27;, RandomForestRegressor(random_state=42))])</pre><b>In a Jupyter environment, please rerun this cell to show the HTML representation or trust the notebook. <br />On GitHub, the HTML representation is unable to render, please try loading this page with nbviewer.org.</b></div><div class=\"sk-container\" hidden><div class=\"sk-item sk-dashed-wrapped\"><div class=\"sk-label-container\"><div class=\"sk-label fitted sk-toggleable\"><input class=\"sk-toggleable__control sk-hidden--visually\" id=\"sk-estimator-id-1\" type=\"checkbox\" ><label for=\"sk-estimator-id-1\" class=\"sk-toggleable__label fitted sk-toggleable__label-arrow fitted\">&nbsp;&nbsp;Pipeline<a class=\"sk-estimator-doc-link fitted\" rel=\"noreferrer\" target=\"_blank\" href=\"https://scikit-learn.org/1.4/modules/generated/sklearn.pipeline.Pipeline.html\">?<span>Documentation for Pipeline</span></a><span class=\"sk-estimator-doc-link fitted\">i<span>Fitted</span></span></label><div class=\"sk-toggleable__content fitted\"><pre>Pipeline(steps=[(&#x27;preprocessor&#x27;,\n                 ColumnTransformer(transformers=[(&#x27;num&#x27;,\n                                                  Pipeline(steps=[(&#x27;imputer&#x27;,\n                                                                   SimpleImputer()),\n                                                                  (&#x27;scaler&#x27;,\n                                                                   StandardScaler())]),\n                                                  [&#x27;first_retailer_asking_price&#x27;,\n                                                   &#x27;last_retailer_asking_price&#x27;,\n                                                   &#x27;odometer_reading_miles&#x27;,\n                                                   &#x27;reviews_per_100_advertised_stock_last_12_months&#x27;,\n                                                   &#x27;seats&#x27;,\n                                                   &#x27;adjusted_retail_amount_gbp&#x27;,\n                                                   &#x27;predicted_mileage&#x27;,\n                                                   &#x27;number_of_images&#x27;,\n                                                   &#x27;advert_quality&#x27;]),\n                                                 (&#x27;cat&#x27;,\n                                                  Pipeline(steps=[(&#x27;onehot&#x27;,\n                                                                   OneHotEncoder(handle_unknown=&#x27;ignore&#x27;))]),\n                                                  [&#x27;can_home_deliver&#x27;,\n                                                   &#x27;manufacturer_approved&#x27;,\n                                                   &#x27;segment&#x27;,\n                                                   &#x27;price_indicator_rating&#x27;])])),\n                (&#x27;regressor&#x27;, RandomForestRegressor(random_state=42))])</pre></div> </div></div><div class=\"sk-serial\"><div class=\"sk-item sk-dashed-wrapped\"><div class=\"sk-label-container\"><div class=\"sk-label fitted sk-toggleable\"><input class=\"sk-toggleable__control sk-hidden--visually\" id=\"sk-estimator-id-2\" type=\"checkbox\" ><label for=\"sk-estimator-id-2\" class=\"sk-toggleable__label fitted sk-toggleable__label-arrow fitted\">&nbsp;preprocessor: ColumnTransformer<a class=\"sk-estimator-doc-link fitted\" rel=\"noreferrer\" target=\"_blank\" href=\"https://scikit-learn.org/1.4/modules/generated/sklearn.compose.ColumnTransformer.html\">?<span>Documentation for preprocessor: ColumnTransformer</span></a></label><div class=\"sk-toggleable__content fitted\"><pre>ColumnTransformer(transformers=[(&#x27;num&#x27;,\n                                 Pipeline(steps=[(&#x27;imputer&#x27;, SimpleImputer()),\n                                                 (&#x27;scaler&#x27;, StandardScaler())]),\n                                 [&#x27;first_retailer_asking_price&#x27;,\n                                  &#x27;last_retailer_asking_price&#x27;,\n                                  &#x27;odometer_reading_miles&#x27;,\n                                  &#x27;reviews_per_100_advertised_stock_last_12_months&#x27;,\n                                  &#x27;seats&#x27;, &#x27;adjusted_retail_amount_gbp&#x27;,\n                                  &#x27;predicted_mileage&#x27;, &#x27;number_of_images&#x27;,\n                                  &#x27;advert_quality&#x27;]),\n                                (&#x27;cat&#x27;,\n                                 Pipeline(steps=[(&#x27;onehot&#x27;,\n                                                  OneHotEncoder(handle_unknown=&#x27;ignore&#x27;))]),\n                                 [&#x27;can_home_deliver&#x27;, &#x27;manufacturer_approved&#x27;,\n                                  &#x27;segment&#x27;, &#x27;price_indicator_rating&#x27;])])</pre></div> </div></div><div class=\"sk-parallel\"><div class=\"sk-parallel-item\"><div class=\"sk-item\"><div class=\"sk-label-container\"><div class=\"sk-label fitted sk-toggleable\"><input class=\"sk-toggleable__control sk-hidden--visually\" id=\"sk-estimator-id-3\" type=\"checkbox\" ><label for=\"sk-estimator-id-3\" class=\"sk-toggleable__label fitted sk-toggleable__label-arrow fitted\">num</label><div class=\"sk-toggleable__content fitted\"><pre>[&#x27;first_retailer_asking_price&#x27;, &#x27;last_retailer_asking_price&#x27;, &#x27;odometer_reading_miles&#x27;, &#x27;reviews_per_100_advertised_stock_last_12_months&#x27;, &#x27;seats&#x27;, &#x27;adjusted_retail_amount_gbp&#x27;, &#x27;predicted_mileage&#x27;, &#x27;number_of_images&#x27;, &#x27;advert_quality&#x27;]</pre></div> </div></div><div class=\"sk-serial\"><div class=\"sk-item\"><div class=\"sk-serial\"><div class=\"sk-item\"><div class=\"sk-estimator fitted sk-toggleable\"><input class=\"sk-toggleable__control sk-hidden--visually\" id=\"sk-estimator-id-4\" type=\"checkbox\" ><label for=\"sk-estimator-id-4\" class=\"sk-toggleable__label fitted sk-toggleable__label-arrow fitted\">&nbsp;SimpleImputer<a class=\"sk-estimator-doc-link fitted\" rel=\"noreferrer\" target=\"_blank\" href=\"https://scikit-learn.org/1.4/modules/generated/sklearn.impute.SimpleImputer.html\">?<span>Documentation for SimpleImputer</span></a></label><div class=\"sk-toggleable__content fitted\"><pre>SimpleImputer()</pre></div> </div></div><div class=\"sk-item\"><div class=\"sk-estimator fitted sk-toggleable\"><input class=\"sk-toggleable__control sk-hidden--visually\" id=\"sk-estimator-id-5\" type=\"checkbox\" ><label for=\"sk-estimator-id-5\" class=\"sk-toggleable__label fitted sk-toggleable__label-arrow fitted\">&nbsp;StandardScaler<a class=\"sk-estimator-doc-link fitted\" rel=\"noreferrer\" target=\"_blank\" href=\"https://scikit-learn.org/1.4/modules/generated/sklearn.preprocessing.StandardScaler.html\">?<span>Documentation for StandardScaler</span></a></label><div class=\"sk-toggleable__content fitted\"><pre>StandardScaler()</pre></div> </div></div></div></div></div></div></div><div class=\"sk-parallel-item\"><div class=\"sk-item\"><div class=\"sk-label-container\"><div class=\"sk-label fitted sk-toggleable\"><input class=\"sk-toggleable__control sk-hidden--visually\" id=\"sk-estimator-id-6\" type=\"checkbox\" ><label for=\"sk-estimator-id-6\" class=\"sk-toggleable__label fitted sk-toggleable__label-arrow fitted\">cat</label><div class=\"sk-toggleable__content fitted\"><pre>[&#x27;can_home_deliver&#x27;, &#x27;manufacturer_approved&#x27;, &#x27;segment&#x27;, &#x27;price_indicator_rating&#x27;]</pre></div> </div></div><div class=\"sk-serial\"><div class=\"sk-item\"><div class=\"sk-serial\"><div class=\"sk-item\"><div class=\"sk-estimator fitted sk-toggleable\"><input class=\"sk-toggleable__control sk-hidden--visually\" id=\"sk-estimator-id-7\" type=\"checkbox\" ><label for=\"sk-estimator-id-7\" class=\"sk-toggleable__label fitted sk-toggleable__label-arrow fitted\">&nbsp;OneHotEncoder<a class=\"sk-estimator-doc-link fitted\" rel=\"noreferrer\" target=\"_blank\" href=\"https://scikit-learn.org/1.4/modules/generated/sklearn.preprocessing.OneHotEncoder.html\">?<span>Documentation for OneHotEncoder</span></a></label><div class=\"sk-toggleable__content fitted\"><pre>OneHotEncoder(handle_unknown=&#x27;ignore&#x27;)</pre></div> </div></div></div></div></div></div></div></div></div><div class=\"sk-item\"><div class=\"sk-estimator fitted sk-toggleable\"><input class=\"sk-toggleable__control sk-hidden--visually\" id=\"sk-estimator-id-8\" type=\"checkbox\" ><label for=\"sk-estimator-id-8\" class=\"sk-toggleable__label fitted sk-toggleable__label-arrow fitted\">&nbsp;RandomForestRegressor<a class=\"sk-estimator-doc-link fitted\" rel=\"noreferrer\" target=\"_blank\" href=\"https://scikit-learn.org/1.4/modules/generated/sklearn.ensemble.RandomForestRegressor.html\">?<span>Documentation for RandomForestRegressor</span></a></label><div class=\"sk-toggleable__content fitted\"><pre>RandomForestRegressor(random_state=42)</pre></div> </div></div></div></div></div></div>"
     },
     "execution_count": 9,
     "metadata": {},
     "output_type": "execute_result"
    }
   ],
   "source": [
    "from sklearn.model_selection import train_test_split\n",
    "from sklearn.preprocessing import StandardScaler, OneHotEncoder\n",
    "from sklearn.compose import ColumnTransformer\n",
    "from sklearn.pipeline import Pipeline\n",
    "from sklearn.impute import SimpleImputer\n",
    "from sklearn.ensemble import RandomForestRegressor\n",
    "\n",
    "# Selecting features and target variable\n",
    "features = ['first_retailer_asking_price', 'last_retailer_asking_price', 'can_home_deliver',\n",
    "            'odometer_reading_miles', 'manufacturer_approved', 'reviews_per_100_advertised_stock_last_12_months', 'segment', 'seats', 'price_indicator_rating', 'adjusted_retail_amount_gbp', 'predicted_mileage', 'number_of_images', 'advert_quality']\n",
    "target = 'days_to_sell'\n",
    "\n",
    "# Dropping rows with missing target values\n",
    "data_cleaned = data.dropna(subset=[target])\n",
    "\n",
    "# Separating features and target\n",
    "X = data_cleaned[features]\n",
    "y = data_cleaned[target]\n",
    "\n",
    "# Handling categorical and numerical features separately\n",
    "categorical_features = ['can_home_deliver', 'manufacturer_approved', 'segment', 'price_indicator_rating']\n",
    "numerical_features = ['first_retailer_asking_price', 'last_retailer_asking_price', 'odometer_reading_miles', 'reviews_per_100_advertised_stock_last_12_months', 'seats', 'adjusted_retail_amount_gbp', 'predicted_mileage', 'number_of_images', 'advert_quality']\n",
    "\n",
    "# Creating transformers for numerical and categorical data\n",
    "numerical_transformer = Pipeline(steps=[\n",
    "    ('imputer', SimpleImputer(strategy='mean')),\n",
    "    ('scaler', StandardScaler())])\n",
    "\n",
    "categorical_transformer = Pipeline(steps=[\n",
    "    ('onehot', OneHotEncoder(handle_unknown='ignore'))])\n",
    "\n",
    "\n",
    "# Combining transformers into a ColumnTransformer\n",
    "preprocessor = ColumnTransformer(\n",
    "    transformers=[\n",
    "        ('num', numerical_transformer, numerical_features),\n",
    "        ('cat', categorical_transformer, categorical_features)])\n",
    "\n",
    "# Splitting the dataset into training and testing sets\n",
    "X_train, X_test, y_train, y_test = train_test_split(X, y, test_size=0.2, random_state=42)\n",
    "\n",
    "# Creating a pipeline with preprocessing and model\n",
    "model = Pipeline(steps=[('preprocessor', preprocessor),\n",
    "                        ('regressor', RandomForestRegressor(n_estimators=100, random_state=42))])\n",
    "\n",
    "\n",
    "# Training the model\n",
    "model.fit(X_train, y_train)\n",
    "\n",
    "# We'll evaluate the model's performance next\n",
    "model"
   ],
   "metadata": {
    "collapsed": false,
    "ExecuteTime": {
     "end_time": "2024-03-01T23:20:39.165548Z",
     "start_time": "2024-03-01T23:18:00.525960Z"
    }
   },
   "id": "ae2b27cd5aa88934",
   "execution_count": 9
  },
  {
   "cell_type": "code",
   "outputs": [
    {
     "name": "stdout",
     "output_type": "stream",
     "text": [
      "Mean Absolute Error: 28.210804387195417\n",
      "Mean Squared Error: 2328.9604601300507\n",
      "R-squared: 0.25274341333545225\n"
     ]
    }
   ],
   "source": [
    "from sklearn.metrics import mean_absolute_error, mean_squared_error, r2_score\n",
    "\n",
    "\n",
    "# Making predictions on the test set\n",
    "y_pred = model.predict(X_test)\n",
    "\n",
    "# Calculating the Mean Absolute Error\n",
    "mae = mean_absolute_error(y_test, y_pred)\n",
    "print(f\"Mean Absolute Error: {mae}\")\n",
    "\n",
    "# Calculating the Mean Squared Error\n",
    "mse = mean_squared_error(y_test, y_pred)\n",
    "print(f\"Mean Squared Error: {mse}\")\n",
    "\n",
    "# Calculating the R-squared value\n",
    "r2 = r2_score(y_test, y_pred)\n",
    "print(f\"R-squared: {r2}\")"
   ],
   "metadata": {
    "collapsed": false,
    "ExecuteTime": {
     "end_time": "2024-03-01T23:20:46.882953Z",
     "start_time": "2024-03-01T23:20:44.598614Z"
    }
   },
   "id": "6d35a598c0e953c6",
   "execution_count": 10
  },
  {
   "cell_type": "code",
   "outputs": [
    {
     "name": "stdout",
     "output_type": "stream",
     "text": [
      "Predicted days to sell: 242.87\n",
      "Actual days to sell: 327\n"
     ]
    }
   ],
   "source": [
    "# Example data for one row (ensure the order and structure match your model's training data)\n",
    "#data = {'first_retailer_asking_price': [5795],  # Example values\n",
    "        # 'last_retailer_asking_price': [5795],\n",
    "        # 'can_home_deliver': ['no'],\n",
    "        # 'odometer_reading_miles': [46585],\n",
    "        # 'manufacturer_approved': ['no']}\n",
    "\n",
    "# Convert the data into a DataFrame\n",
    "#single_row_df = pd.DataFrame(data)\n",
    "\n",
    "# Use the model to make a prediction for the single row\n",
    "row_to_test = 8\n",
    "\n",
    "prediction = model.predict(data_cleaned.iloc[[row_to_test]][features])\n",
    "\n",
    "real = data_cleaned.iloc[row_to_test]['days_to_sell']\n",
    "\n",
    "print(f\"Predicted days to sell: {prediction[0]}\")\n",
    "print(f\"Actual days to sell: {real}\")"
   ],
   "metadata": {
    "collapsed": false,
    "ExecuteTime": {
     "end_time": "2024-03-01T23:28:22.478251Z",
     "start_time": "2024-03-01T23:28:22.467012Z"
    }
   },
   "id": "ba78279fbcceb573",
   "execution_count": 31
  },
  {
   "cell_type": "code",
   "outputs": [
    {
     "data": {
      "text/plain": "        first_retailer_asking_price  last_retailer_asking_price  \\\n203413                        14000                     13700.0   \n10746                          5795                      5795.0   \n32285                         10999                     11299.0   \n184165                        25310                     21990.0   \n197383                        31450                     31450.0   \n...                             ...                         ...   \n84625                          3795                      3795.0   \n94928                         16300                     16000.0   \n124625                        15989                     15989.0   \n99314                         30950                     31950.0   \n195742                         9499                      8899.0   \n\n        can_home_deliver  odometer_reading_miles  manufacturer_approved  \n203413             False                   49308                  False  \n10746              False                   46585                  False  \n32285              False                   19570                  False  \n184165             False                    8907                   True  \n197383             False                   20000                  False  \n...                  ...                     ...                    ...  \n84625              False                  108000                  False  \n94928              False                   33176                  False  \n124625             False                   19741                  False  \n99314              False                   17049                   True  \n195742             False                   17044                  False  \n\n[44911 rows x 5 columns]",
      "text/html": "<div>\n<style scoped>\n    .dataframe tbody tr th:only-of-type {\n        vertical-align: middle;\n    }\n\n    .dataframe tbody tr th {\n        vertical-align: top;\n    }\n\n    .dataframe thead th {\n        text-align: right;\n    }\n</style>\n<table border=\"1\" class=\"dataframe\">\n  <thead>\n    <tr style=\"text-align: right;\">\n      <th></th>\n      <th>first_retailer_asking_price</th>\n      <th>last_retailer_asking_price</th>\n      <th>can_home_deliver</th>\n      <th>odometer_reading_miles</th>\n      <th>manufacturer_approved</th>\n    </tr>\n  </thead>\n  <tbody>\n    <tr>\n      <th>203413</th>\n      <td>14000</td>\n      <td>13700.0</td>\n      <td>False</td>\n      <td>49308</td>\n      <td>False</td>\n    </tr>\n    <tr>\n      <th>10746</th>\n      <td>5795</td>\n      <td>5795.0</td>\n      <td>False</td>\n      <td>46585</td>\n      <td>False</td>\n    </tr>\n    <tr>\n      <th>32285</th>\n      <td>10999</td>\n      <td>11299.0</td>\n      <td>False</td>\n      <td>19570</td>\n      <td>False</td>\n    </tr>\n    <tr>\n      <th>184165</th>\n      <td>25310</td>\n      <td>21990.0</td>\n      <td>False</td>\n      <td>8907</td>\n      <td>True</td>\n    </tr>\n    <tr>\n      <th>197383</th>\n      <td>31450</td>\n      <td>31450.0</td>\n      <td>False</td>\n      <td>20000</td>\n      <td>False</td>\n    </tr>\n    <tr>\n      <th>...</th>\n      <td>...</td>\n      <td>...</td>\n      <td>...</td>\n      <td>...</td>\n      <td>...</td>\n    </tr>\n    <tr>\n      <th>84625</th>\n      <td>3795</td>\n      <td>3795.0</td>\n      <td>False</td>\n      <td>108000</td>\n      <td>False</td>\n    </tr>\n    <tr>\n      <th>94928</th>\n      <td>16300</td>\n      <td>16000.0</td>\n      <td>False</td>\n      <td>33176</td>\n      <td>False</td>\n    </tr>\n    <tr>\n      <th>124625</th>\n      <td>15989</td>\n      <td>15989.0</td>\n      <td>False</td>\n      <td>19741</td>\n      <td>False</td>\n    </tr>\n    <tr>\n      <th>99314</th>\n      <td>30950</td>\n      <td>31950.0</td>\n      <td>False</td>\n      <td>17049</td>\n      <td>True</td>\n    </tr>\n    <tr>\n      <th>195742</th>\n      <td>9499</td>\n      <td>8899.0</td>\n      <td>False</td>\n      <td>17044</td>\n      <td>False</td>\n    </tr>\n  </tbody>\n</table>\n<p>44911 rows × 5 columns</p>\n</div>"
     },
     "execution_count": 12,
     "metadata": {},
     "output_type": "execute_result"
    }
   ],
   "source": [
    "X_test"
   ],
   "metadata": {
    "collapsed": false,
    "ExecuteTime": {
     "end_time": "2024-03-01T22:54:55.178978Z",
     "start_time": "2024-03-01T22:54:55.166668Z"
    }
   },
   "id": "e7a749ac9ff1ba21",
   "execution_count": 12
  },
  {
   "cell_type": "code",
   "outputs": [
    {
     "data": {
      "text/plain": "stock_item_id                                      1e942ca6c4c86c95d7f7e94c004833b138bcec3ef6f1be...\nlast_date_seen                                                                            2023-05-03\nfirst_date_seen                                                                           2023-04-21\ndays_to_sell                                                                                      12\nfirst_retailer_asking_price                                                                     5795\nlast_retailer_asking_price                                                                    5795.0\ncan_home_deliver                                                                               False\nreviews_per_100_advertised_stock_last_12_months                                                  1.5\nsegment                                                                                  Independent\nseats                                                                                            5.0\ndoors                                                                                            5.0\nco2_emission_gpkm                                                                              116.0\ntop_speed_mph                                                                                  122.0\nzero_to_sixty_mph_seconds                                                                       None\nengine_power_bhp                                                                               134.0\nfuel_economy_wltp_combined_mpg                                                                  64.2\nbattery_range_miles                                                                              NaN\nbattery_usable_capacity_kwh                                                                     None\nlength_mm                                                                                     4300.0\nboot_space_seats_up_litres                                                                     397.0\ninsurance_group                                                                                   16\nplate                                                                                             64\nmake                                                                                        Vauxhall\nmodel                                                                                         Meriva\ngeneration                                                                         MPV (2013 - 2017)\nderivative                                               1.6 CDTi ecoFLEX Tech Line Euro 6 (s/s) 5dr\nderivative_id                                                       56b30980f5584fdf82acc1f1977bf417\nbody_type                                                                                        MPV\nfuel_type                                                                                     Diesel\ntransmission_type                                                                             Manual\ndrivetrain                                                                         Front Wheel Drive\ncolour                                                                                         Black\nodometer_reading_miles                                                                         46585\nfirst_registration_date                                                                   2014-11-12\nattention_grabber                                                     2 KEYS, AIR CON, CRUISE CONTRO\nmanufacturer_approved                                                                          False\nprice_indicator_rating                                                                           LOW\nadjusted_retail_amount_gbp                                                                    6676.0\npredicted_mileage                                                                            68052.0\nnumber_of_images                                                                                  28\nadvert_quality                                                                                   NaN\npostcode_area                                                                                     NN\nName: 10746, dtype: object"
     },
     "execution_count": 17,
     "metadata": {},
     "output_type": "execute_result"
    }
   ],
   "source": [
    "data_cleaned.iloc[10746]"
   ],
   "metadata": {
    "collapsed": false,
    "ExecuteTime": {
     "end_time": "2024-03-01T22:57:30.844851Z",
     "start_time": "2024-03-01T22:57:30.838739Z"
    }
   },
   "id": "c91a7356b77e13a2",
   "execution_count": 17
  }
 ],
 "metadata": {
  "kernelspec": {
   "name": "python3",
   "language": "python",
   "display_name": "Python 3 (ipykernel)"
  }
 },
 "nbformat": 4,
 "nbformat_minor": 5
}
