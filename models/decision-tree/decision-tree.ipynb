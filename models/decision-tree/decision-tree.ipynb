{
 "cells": [
  {
   "cell_type": "markdown",
   "source": [
    "# Decision Trees\n",
    "\n",
    "Use a Decision Tree model and the _AutoTrader_ May 2023 dataset to predict how long it will take a newly listed car to sell.\n",
    "This is intended to be an experiment to set a baseline for a Random Forest approach.\n",
    "\n",
    "## Workflow\n",
    "\n",
    "1. Simple data cleaning / preprocessing - drop NaNs for this example\n",
    "2. Build and Train Decision Tree model\n",
    "3. Evaluate the Model\n",
    "4. **Feature Importance** - identify which features are the most influential for the informing splits in the decision tree "
   ],
   "metadata": {
    "collapsed": false
   },
   "id": "f2db30100e6963a4"
  },
  {
   "cell_type": "code",
   "outputs": [
    {
     "data": {
      "text/plain": "                                       stock_item_id last_date_seen  \\\n0  52ae009b671ab58b3d4ff109a9fbdcf8d847de0fa190e1...     2023-05-05   \n1  32b1bac6934b1f64ff43cffa9df5aa296ead8143c36f9f...     2023-05-09   \n2  21703d22d87eaa95c4dc81a60ba2c8cbe3b90ab659292c...     2023-05-12   \n3  661acafc271373946cea7d30ac7f34257404ab89a1ad33...     2023-05-16   \n4  638216dc92410d965b416fea5b3cec9ca903368795fdde...     2023-05-04   \n\n  first_date_seen  days_to_sell  first_retailer_asking_price  \\\n0      2021-03-25           771                         6995   \n1      2021-05-25           714                        13725   \n2      2021-11-26           532                        15499   \n3      2022-02-17           453                        10995   \n4      2022-03-21           409                        46000   \n\n   last_retailer_asking_price  can_home_deliver  \\\n0                      6495.0             False   \n1                     14995.0             False   \n2                     13999.0             False   \n3                      9995.0             False   \n4                     37500.0             False   \n\n   reviews_per_100_advertised_stock_last_12_months      segment  seats  ...  \\\n0                                              3.9  Independent    5.0  ...   \n1                                              NaN    Franchise    5.0  ...   \n2                                              0.2  Independent    5.0  ...   \n3                                              7.9    Franchise    5.0  ...   \n4                                              6.8    Franchise    5.0  ...   \n\n   odometer_reading_miles  first_registration_date  \\\n0                   65000               2004-05-07   \n1                   16018               2019-11-30   \n2                   31093               2018-03-08   \n3                   79000               2015-07-02   \n4                   10214               2022-03-03   \n\n                attention_grabber manufacturer_approved  \\\n0      *IMMACULATE**FULL HISTORY*                 False   \n1  Sports Styling | Great Economy                  True   \n2     Sat Nav,Leather,Auto,Euro 6                 False   \n3     Viewing by APPOINTMENT ONLY                 False   \n4                  Reserve Online                  True   \n\n  price_indicator_rating adjusted_retail_amount_gbp  predicted_mileage  \\\n0             NOANALYSIS                        NaN                NaN   \n1                   GOOD                    14848.0            26078.0   \n2                  GREAT                    14571.0            34732.0   \n3                   FAIR                     9349.0            65684.0   \n4                   GOOD                    37055.0            11765.0   \n\n  number_of_images advert_quality  postcode_area  \n0               50            NaN             AL  \n1               15           57.0             HP  \n2               22           61.0             SR  \n3               30           61.0             FY  \n4               22           48.0             LE  \n\n[5 rows x 42 columns]",
      "text/html": "<div>\n<style scoped>\n    .dataframe tbody tr th:only-of-type {\n        vertical-align: middle;\n    }\n\n    .dataframe tbody tr th {\n        vertical-align: top;\n    }\n\n    .dataframe thead th {\n        text-align: right;\n    }\n</style>\n<table border=\"1\" class=\"dataframe\">\n  <thead>\n    <tr style=\"text-align: right;\">\n      <th></th>\n      <th>stock_item_id</th>\n      <th>last_date_seen</th>\n      <th>first_date_seen</th>\n      <th>days_to_sell</th>\n      <th>first_retailer_asking_price</th>\n      <th>last_retailer_asking_price</th>\n      <th>can_home_deliver</th>\n      <th>reviews_per_100_advertised_stock_last_12_months</th>\n      <th>segment</th>\n      <th>seats</th>\n      <th>...</th>\n      <th>odometer_reading_miles</th>\n      <th>first_registration_date</th>\n      <th>attention_grabber</th>\n      <th>manufacturer_approved</th>\n      <th>price_indicator_rating</th>\n      <th>adjusted_retail_amount_gbp</th>\n      <th>predicted_mileage</th>\n      <th>number_of_images</th>\n      <th>advert_quality</th>\n      <th>postcode_area</th>\n    </tr>\n  </thead>\n  <tbody>\n    <tr>\n      <th>0</th>\n      <td>52ae009b671ab58b3d4ff109a9fbdcf8d847de0fa190e1...</td>\n      <td>2023-05-05</td>\n      <td>2021-03-25</td>\n      <td>771</td>\n      <td>6995</td>\n      <td>6495.0</td>\n      <td>False</td>\n      <td>3.9</td>\n      <td>Independent</td>\n      <td>5.0</td>\n      <td>...</td>\n      <td>65000</td>\n      <td>2004-05-07</td>\n      <td>*IMMACULATE**FULL HISTORY*</td>\n      <td>False</td>\n      <td>NOANALYSIS</td>\n      <td>NaN</td>\n      <td>NaN</td>\n      <td>50</td>\n      <td>NaN</td>\n      <td>AL</td>\n    </tr>\n    <tr>\n      <th>1</th>\n      <td>32b1bac6934b1f64ff43cffa9df5aa296ead8143c36f9f...</td>\n      <td>2023-05-09</td>\n      <td>2021-05-25</td>\n      <td>714</td>\n      <td>13725</td>\n      <td>14995.0</td>\n      <td>False</td>\n      <td>NaN</td>\n      <td>Franchise</td>\n      <td>5.0</td>\n      <td>...</td>\n      <td>16018</td>\n      <td>2019-11-30</td>\n      <td>Sports Styling | Great Economy</td>\n      <td>True</td>\n      <td>GOOD</td>\n      <td>14848.0</td>\n      <td>26078.0</td>\n      <td>15</td>\n      <td>57.0</td>\n      <td>HP</td>\n    </tr>\n    <tr>\n      <th>2</th>\n      <td>21703d22d87eaa95c4dc81a60ba2c8cbe3b90ab659292c...</td>\n      <td>2023-05-12</td>\n      <td>2021-11-26</td>\n      <td>532</td>\n      <td>15499</td>\n      <td>13999.0</td>\n      <td>False</td>\n      <td>0.2</td>\n      <td>Independent</td>\n      <td>5.0</td>\n      <td>...</td>\n      <td>31093</td>\n      <td>2018-03-08</td>\n      <td>Sat Nav,Leather,Auto,Euro 6</td>\n      <td>False</td>\n      <td>GREAT</td>\n      <td>14571.0</td>\n      <td>34732.0</td>\n      <td>22</td>\n      <td>61.0</td>\n      <td>SR</td>\n    </tr>\n    <tr>\n      <th>3</th>\n      <td>661acafc271373946cea7d30ac7f34257404ab89a1ad33...</td>\n      <td>2023-05-16</td>\n      <td>2022-02-17</td>\n      <td>453</td>\n      <td>10995</td>\n      <td>9995.0</td>\n      <td>False</td>\n      <td>7.9</td>\n      <td>Franchise</td>\n      <td>5.0</td>\n      <td>...</td>\n      <td>79000</td>\n      <td>2015-07-02</td>\n      <td>Viewing by APPOINTMENT ONLY</td>\n      <td>False</td>\n      <td>FAIR</td>\n      <td>9349.0</td>\n      <td>65684.0</td>\n      <td>30</td>\n      <td>61.0</td>\n      <td>FY</td>\n    </tr>\n    <tr>\n      <th>4</th>\n      <td>638216dc92410d965b416fea5b3cec9ca903368795fdde...</td>\n      <td>2023-05-04</td>\n      <td>2022-03-21</td>\n      <td>409</td>\n      <td>46000</td>\n      <td>37500.0</td>\n      <td>False</td>\n      <td>6.8</td>\n      <td>Franchise</td>\n      <td>5.0</td>\n      <td>...</td>\n      <td>10214</td>\n      <td>2022-03-03</td>\n      <td>Reserve Online</td>\n      <td>True</td>\n      <td>GOOD</td>\n      <td>37055.0</td>\n      <td>11765.0</td>\n      <td>22</td>\n      <td>48.0</td>\n      <td>LE</td>\n    </tr>\n  </tbody>\n</table>\n<p>5 rows × 42 columns</p>\n</div>"
     },
     "execution_count": 178,
     "metadata": {},
     "output_type": "execute_result"
    }
   ],
   "source": [
    "import pandas as pd\n",
    "\n",
    "df = pd.read_parquet(\"./data/rate_of_sale_may_2023.snappy.parquet\")\n",
    "TARGET_FEATURE = \"days_to_sell\"\n",
    "df.head()"
   ],
   "metadata": {
    "collapsed": false,
    "ExecuteTime": {
     "end_time": "2024-03-08T17:55:59.476104Z",
     "start_time": "2024-03-08T17:55:59.259204Z"
    }
   },
   "id": "977732df3b5f3391",
   "execution_count": 178
  },
  {
   "cell_type": "markdown",
   "source": [
    "## Preprocessing\n",
    "### Handle missing values\n",
    "* Drop columns which aren't interesting/useful\n",
    "    * `generation` - remove (for now) as can get a good enough estimate from plate without needing processing\n",
    "    * `derivative` - same rationale as above\n",
    "    * `first_registration_date` - use plate instead — this is too precise and requires extra processing (for now)\n",
    "    * `postcode_area` - requires extra processing - add in later after inital tests\n",
    "* Drop null values except\n",
    "    * `reviews_per_100_advertised_stock_last_12_months`: $33,266$ missing => replace with $0.0$\n",
    "    * `zero_to_sixty_mph_seconds`: $143,152$ missing => replace with $-1$. Probably not missing at random - slower 0-60s less likely to be advertised\n",
    "    * `advert_quality`: $43932$ missing => replace with $0.0$\n",
    "    * `colour`: $2072$ missing: replace with `\"black\"`\n",
    "* Remove EVs from model (incl. hybrids)\n",
    "\n",
    "### Remove outliers\n",
    "Numerical outliers are defined as being outside the range $[\\hat\\mu - 2\\cdot\\sigma, \\hat\\mu + 2\\cdot\\sigma]$"
   ],
   "metadata": {
    "collapsed": false
   },
   "id": "2681218c9bf073ad"
  },
  {
   "cell_type": "code",
   "outputs": [],
   "source": [
    "columns_to_drop = [\n",
    "    \"stock_item_id\",\n",
    "    \"last_date_seen\",\n",
    "    \"last_retailer_asking_price\",\n",
    "    \"generation\",\n",
    "    \"derivative\",\n",
    "    \"derivative_id\",\n",
    "    \"first_registration_date\",\n",
    "    \"attention_grabber\",\n",
    "    \"postcode_area\",\n",
    "    \"first_date_seen\"\n",
    "]\n",
    "\n",
    "# drop excluded features\n",
    "df = df.drop(columns_to_drop, axis=1)\n",
    "\n",
    "# Replace missing values for specified columns with custom values\n",
    "df['reviews_per_100_advertised_stock_last_12_months'] = df['reviews_per_100_advertised_stock_last_12_months'].fillna(0.0)\n",
    "df['zero_to_sixty_mph_seconds'] = df['zero_to_sixty_mph_seconds'].fillna(-1)\n",
    "df['advert_quality'] = df['advert_quality'].fillna(0.0)\n",
    "df['colour'] = df['colour'].fillna(\"Black\")\n",
    "\n",
    "# drop EVs\n",
    "excluded_fuel_types = ['Electric', 'Petrol Plug-in Hybrid', 'Diesel Plug-in Hybrid']\n",
    "df = df[~df['fuel_type'].isin(excluded_fuel_types)]\n",
    "df = df.drop([\"battery_range_miles\", \"battery_usable_capacity_kwh\"], axis=1)"
   ],
   "metadata": {
    "collapsed": false,
    "ExecuteTime": {
     "end_time": "2024-03-08T17:55:59.588267Z",
     "start_time": "2024-03-08T17:55:59.476475Z"
    }
   },
   "id": "cecb829b5a5f9d1",
   "execution_count": 179
  },
  {
   "cell_type": "code",
   "outputs": [],
   "source": [
    "# drop numerical outliers\n",
    "numerical_features = [col for col in df.columns if df[col].dtype in ['int64', 'float64'] and col != 'days_to_sell']\n",
    "\n",
    "means = df[numerical_features].mean()\n",
    "stds = df[numerical_features].std()\n",
    "\n",
    "# Define the upper and lower bounds for each feature\n",
    "lower_bounds = means - 2 * stds\n",
    "upper_bounds = means + 2 * stds\n",
    "\n",
    "# Filter rows: keep only those within ±2 standard deviations from the mean for each numerical feature\n",
    "filtered_indices = (df[numerical_features] >= lower_bounds) & (df[numerical_features] <= upper_bounds)\n",
    "df = df[filtered_indices.all(axis=1)]\n",
    "\n",
    "# drop other NaNs\n",
    "df = df.dropna()"
   ],
   "metadata": {
    "collapsed": false,
    "ExecuteTime": {
     "end_time": "2024-03-08T17:55:59.693152Z",
     "start_time": "2024-03-08T17:55:59.590302Z"
    }
   },
   "id": "ab4ee3ff85f9cea5",
   "execution_count": 180
  },
  {
   "cell_type": "markdown",
   "source": [
    "### Feature Encoding\n",
    "* Binary values left as-is\n",
    "* Categories all one-hot encoded\n",
    "* Numerical features scaled"
   ],
   "metadata": {
    "collapsed": false
   },
   "id": "ca275027a391f6c8"
  },
  {
   "cell_type": "code",
   "outputs": [],
   "source": [
    "from sklearn.preprocessing import StandardScaler\n",
    "\n",
    "binary_features = [\n",
    "    \"can_home_deliver\",\n",
    "    \"manufacturer_approved\"\n",
    "]\n",
    "\n",
    "\n",
    "categorical_features = [\n",
    "    \"segment\",\n",
    "    \"make\",\n",
    "    \"model\",\n",
    "    \"body_type\",\n",
    "    \"fuel_type\",\n",
    "    \"transmission_type\",\n",
    "    \"drivetrain\",\n",
    "    \"colour\",\n",
    "    \"price_indicator_rating\",\n",
    "]\n",
    "\n",
    "df_encoded = pd.get_dummies(df, columns=categorical_features, drop_first=True)\n",
    "    \n",
    "numerical_features = [col for col in df_encoded.columns if col not in ('days_to_sell',) + tuple(categorical_features) + tuple(binary_features)]\n",
    "\n",
    "scaler = StandardScaler()\n",
    "df_encoded[numerical_features] = scaler.fit_transform(df_encoded[numerical_features])"
   ],
   "metadata": {
    "collapsed": false,
    "ExecuteTime": {
     "end_time": "2024-03-08T17:56:02.005360Z",
     "start_time": "2024-03-08T17:55:59.695331Z"
    }
   },
   "id": "972ee8ad3bbcbd3",
   "execution_count": 181
  },
  {
   "cell_type": "markdown",
   "source": [
    "### Test-train split\n",
    "\n",
    "In the interest of trying both regression and classification, two different splits will be performed. \n",
    "Splitting ratio 80/20 train/test\n",
    "\n",
    "Since the vast majority of values are below 100 days, remove all days outside 100 from the dataset"
   ],
   "metadata": {
    "collapsed": false
   },
   "id": "54a631652ed244cd"
  },
  {
   "cell_type": "code",
   "outputs": [
    {
     "name": "stderr",
     "output_type": "stream",
     "text": [
      "/var/folders/t9/739h6zbd7c920wnyt9prbm580000gn/T/ipykernel_78734/1057785239.py:23: PerformanceWarning: DataFrame is highly fragmented.  This is usually the result of calling `frame.insert` many times, which has poor performance.  Consider joining all columns at once using pd.concat(axis=1) instead. To get a de-fragmented frame, use `newframe = frame.copy()`\n",
      "  df_encoded['days_to_sell_category'] = pd.cut(df_encoded['days_to_sell'], bins=bins, labels=labels)\n"
     ]
    }
   ],
   "source": [
    "from sklearn.model_selection import train_test_split\n",
    "\n",
    "X = df_encoded.drop('days_to_sell', axis=1)\n",
    "\n",
    "# regression split\n",
    "y_regression = df_encoded['days_to_sell']\n",
    "X_train_reg, X_test_reg, y_train_reg, y_test_reg = train_test_split(X, y_regression, test_size=0.2, random_state=42)\n",
    "\n",
    "# Combine X_train and y_train back to filter efficiently\n",
    "train_data = X_train_reg.copy()\n",
    "train_data['days_to_sell'] = y_train_reg\n",
    "\n",
    "# Filter\n",
    "train_data_filtered = train_data[train_data['days_to_sell'] <= 100]\n",
    "\n",
    "# Split the filtered training data back into X_train and y_train\n",
    "X_train_reg = train_data_filtered.drop('days_to_sell', axis=1)\n",
    "y_train_reg = train_data_filtered['days_to_sell']\n",
    "\n",
    "# classification split\n",
    "bins = [-1, 7, 14, 21, 28, 60, 90, float('inf')]\n",
    "labels = ['Within a week', \"1-2 weeks\", \"2-3 weeks\", \"3-4 weeks\", \"Within two months\", \"Within three months\", \"3+ months\"]\n",
    "df_encoded['days_to_sell_category'] = pd.cut(df_encoded['days_to_sell'], bins=bins, labels=labels)\n",
    "\n",
    "y_classification = df_encoded['days_to_sell_category']\n",
    "\n",
    "# Splitting dataset for classification\n",
    "X_train_class, X_test_class, y_train_class, y_test_class = train_test_split(X, y_classification, test_size=0.2, random_state=42)"
   ],
   "metadata": {
    "collapsed": false,
    "ExecuteTime": {
     "end_time": "2024-03-08T17:56:03.710316Z",
     "start_time": "2024-03-08T17:56:02.006234Z"
    }
   },
   "id": "a38a5b0946d120dd",
   "execution_count": 182
  },
  {
   "cell_type": "markdown",
   "source": [
    "## Training a Decision Tree Regressor\n",
    "\n",
    "Training is done and evaluated on the training set using k-fold cross validation"
   ],
   "metadata": {
    "collapsed": false
   },
   "id": "a1c74ab80dbcbd00"
  },
  {
   "cell_type": "code",
   "outputs": [
    {
     "name": "stdout",
     "output_type": "stream",
     "text": [
      "Average MSE across 5 folds: 941.4103542996718\n",
      "Average RMSE across 5 folds: 30.682411155247753\n"
     ]
    }
   ],
   "source": [
    "from sklearn.model_selection import cross_val_score\n",
    "from sklearn.tree import DecisionTreeRegressor\n",
    "import numpy as np\n",
    "\n",
    "k = 5\n",
    "model = DecisionTreeRegressor(random_state=42)\n",
    "\n",
    "# Perform k-fold CV and calculate MSE scores\n",
    "cv_mse_scores = cross_val_score(model, pd.concat([X_train_reg, X_test_reg]), pd.concat([y_train_reg, y_test_reg]), cv=k, scoring='neg_mean_squared_error')\n",
    "\n",
    "# Convert scores to positive MSE scores\n",
    "cv_mse_scores_positive = -cv_mse_scores\n",
    "\n",
    "# Calculate the average MSE and RMSE across all folds\n",
    "average_cv_mse = np.mean(cv_mse_scores_positive)\n",
    "average_cv_rmse = np.sqrt(average_cv_mse)\n",
    "\n",
    "print(f\"Average MSE across {k} folds: {average_cv_mse}\")\n",
    "print(f\"Average RMSE across {k} folds: {average_cv_rmse}\")"
   ],
   "metadata": {
    "collapsed": false,
    "ExecuteTime": {
     "end_time": "2024-03-08T18:22:01.666720Z",
     "start_time": "2024-03-08T18:21:53.801241Z"
    }
   },
   "id": "cd169db18b0d07ed",
   "execution_count": 188
  },
  {
   "cell_type": "code",
   "outputs": [
    {
     "name": "stdout",
     "output_type": "stream",
     "text": [
      "Test RMSE: 52.77026090824235\n",
      "Test MAE:  30.901622579765476\n",
      "Test R^2 score: -0.11437926511723018\n"
     ]
    }
   ],
   "source": [
    "from sklearn.metrics import mean_squared_error, r2_score, mean_absolute_error\n",
    "\n",
    "# Fit the model to the entire training dataset\n",
    "model.fit(X_train_reg, y_train_reg)\n",
    "\n",
    "# Predict on the test set\n",
    "y_pred_reg = model.predict(X_test_reg)\n",
    "\n",
    "# Calculate performance metrics on the test set\n",
    "test_rmse = np.sqrt(mean_squared_error(y_test_reg, y_pred_reg))\n",
    "test_r2 = r2_score(y_test_reg, y_pred_reg)\n",
    "test_mae = mean_absolute_error(y_test_reg, y_pred_reg)\n",
    "\n",
    "print(f\"Test RMSE: {test_rmse}\")\n",
    "print(f\"Test MAE:  {test_mae}\")\n",
    "print(f\"Test R^2 score: {test_r2}\")\n"
   ],
   "metadata": {
    "collapsed": false,
    "ExecuteTime": {
     "end_time": "2024-03-08T17:56:32.659861Z",
     "start_time": "2024-03-08T17:56:28.296117Z"
    }
   },
   "id": "3f93b3bfb6c0275b",
   "execution_count": 184
  },
  {
   "cell_type": "markdown",
   "source": [
    "## Training a Decision Tree Classifier"
   ],
   "metadata": {
    "collapsed": false
   },
   "id": "37dbc590306ec25b"
  },
  {
   "cell_type": "code",
   "outputs": [
    {
     "name": "stdout",
     "output_type": "stream",
     "text": [
      "Accuracy: 0.216764385055904\n",
      "Confusion Matrix:\n",
      "[[ 748  576  241  438  837  362 1123]\n",
      " [ 573  445  274  361  597  388 1015]\n",
      " [ 204  204  562  187  217  472  693]\n",
      " [ 409  352  178  277  389  285  769]\n",
      " [ 850  566  215  437 1137  299  926]\n",
      " [ 349  329  438  306  313  582 1089]\n",
      " [1090 1024  715  847  992 1048 2608]]\n",
      "Classification Report:\n",
      "                     precision    recall  f1-score   support\n",
      "\n",
      "          1-2 weeks       0.18      0.17      0.18      4325\n",
      "          2-3 weeks       0.13      0.12      0.12      3653\n",
      "          3+ months       0.21      0.22      0.22      2539\n",
      "          3-4 weeks       0.10      0.10      0.10      2659\n",
      "      Within a week       0.25      0.26      0.26      4430\n",
      "Within three months       0.17      0.17      0.17      3406\n",
      "  Within two months       0.32      0.31      0.32      8324\n",
      "\n",
      "           accuracy                           0.22     29336\n",
      "          macro avg       0.19      0.19      0.19     29336\n",
      "       weighted avg       0.22      0.22      0.22     29336\n"
     ]
    }
   ],
   "source": [
    "from sklearn.tree import DecisionTreeClassifier\n",
    "from sklearn.metrics import accuracy_score, confusion_matrix, classification_report\n",
    "\n",
    "# train\n",
    "classifier = DecisionTreeClassifier(random_state=42)\n",
    "classifier.fit(X_train_class, y_train_class)\n",
    "\n",
    "# test\n",
    "y_pred_class = classifier.predict(X_test_class)\n",
    "\n",
    "# Evaluation\n",
    "accuracy = accuracy_score(y_test_class, y_pred_class)\n",
    "conf_matrix = confusion_matrix(y_test_class, y_pred_class)\n",
    "class_report = classification_report(y_test_class, y_pred_class)\n",
    "\n",
    "print(f\"Accuracy: {accuracy}\")\n",
    "print(\"Confusion Matrix:\")\n",
    "print(conf_matrix)\n",
    "print(\"Classification Report:\")\n",
    "print(class_report)"
   ],
   "metadata": {
    "collapsed": false,
    "ExecuteTime": {
     "end_time": "2024-03-08T17:56:37.684948Z",
     "start_time": "2024-03-08T17:56:32.663212Z"
    }
   },
   "id": "52ddb6d7cd35741c",
   "execution_count": 185
  },
  {
   "cell_type": "markdown",
   "source": [
    "## Guesswork\n",
    "\n",
    "Guess the distribution of days\n",
    "Randomly sample it for each car"
   ],
   "metadata": {
    "collapsed": false
   },
   "id": "4c25bd1d7851746d"
  },
  {
   "cell_type": "code",
   "outputs": [
    {
     "name": "stdout",
     "output_type": "stream",
     "text": [
      "[-81.40068603 108.7977558   -3.17206275  76.7386306  146.37549392\n",
      "  47.62947024 113.78350592  66.94258705  50.79368907 -11.44768527]\n"
     ]
    }
   ],
   "source": [
    "from scipy import stats\n",
    "\n",
    "# Assuming 'days_to_sell' is your target column in the dataframe 'df'\n",
    "data = df['days_to_sell'].dropna()  # Ensure no NaN values\n",
    "\n",
    "# Fit a distribution to the data\n",
    "distribution = stats.norm # Assuming a normal distribution for simplicity; adjust based on your data analysis\n",
    "params = distribution.fit(data)\n",
    "\n",
    "def sample_from_distribution(num_samples=1):\n",
    "    \"\"\"Sample from the estimated distribution.\"\"\"\n",
    "    return distribution.rvs(*params, size=num_samples)\n",
    "\n",
    "# Example usage: Sample 10 values from the estimated distribution\n",
    "sampled_values = sample_from_distribution(10)\n",
    "print(sampled_values)\n"
   ],
   "metadata": {
    "collapsed": false,
    "ExecuteTime": {
     "end_time": "2024-03-08T17:56:37.692079Z",
     "start_time": "2024-03-08T17:56:37.686763Z"
    }
   },
   "id": "23cdc160c32d05cb",
   "execution_count": 186
  },
  {
   "cell_type": "code",
   "outputs": [
    {
     "name": "stdout",
     "output_type": "stream",
     "text": [
      "RMSE of random predictions: 72.3796043997248\n",
      "MAE of random predictions:  52.7614716873917\n",
      "$r^2$ score: -1.0964617834217378\n"
     ]
    }
   ],
   "source": [
    "from sklearn.metrics import root_mean_squared_error, r2_score, mean_absolute_error\n",
    "\n",
    "# Sample from the distribution for each instance in the test set\n",
    "num_samples = len(X_test_reg)  # X_test_reg is your regression test set's features\n",
    "random_predictions = sample_from_distribution(num_samples)\n",
    "\n",
    "# Assuming y_test_reg is your actual target values for the regression test set\n",
    "rmse = root_mean_squared_error(y_test_reg, random_predictions)\n",
    "r2 = r2_score(y_test_reg, random_predictions)\n",
    "mae= mean_absolute_error(y_test_reg, random_predictions)\n",
    "print(f\"RMSE of random predictions: {rmse}\")\n",
    "print(f\"MAE of random predictions:  {mae}\")\n",
    "print(f\"$r^2$ score: {r2}\")"
   ],
   "metadata": {
    "collapsed": false,
    "ExecuteTime": {
     "end_time": "2024-03-08T17:56:37.705194Z",
     "start_time": "2024-03-08T17:56:37.699024Z"
    }
   },
   "id": "5c47139debe7e20a",
   "execution_count": 187
  }
 ],
 "metadata": {
  "kernelspec": {
   "display_name": "Python 3",
   "language": "python",
   "name": "python3"
  },
  "language_info": {
   "codemirror_mode": {
    "name": "ipython",
    "version": 2
   },
   "file_extension": ".py",
   "mimetype": "text/x-python",
   "name": "python",
   "nbconvert_exporter": "python",
   "pygments_lexer": "ipython2",
   "version": "2.7.6"
  }
 },
 "nbformat": 4,
 "nbformat_minor": 5
}
